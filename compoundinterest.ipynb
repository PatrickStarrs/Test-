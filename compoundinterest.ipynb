{
 "cells": [
  {
   "cell_type": "code",
   "execution_count": 14,
   "metadata": {},
   "outputs": [
    {
     "name": "stdin",
     "output_type": "stream",
     "text": [
      "What is your initial principal in dollars? 100\n",
      "What is the interest rate? 1\n",
      "How many years is the interest compounding? 1\n",
      "How many times does the interest compound in a year? 1\n"
     ]
    },
    {
     "name": "stdout",
     "output_type": "stream",
     "text": [
      "Your new amount is: 101 dollars\n"
     ]
    }
   ],
   "source": [
    "principal = input(\"What is your initial principal in dollars?\")\n",
    "type(principal)\n",
    "\n",
    "int_principal = int(principal)\n",
    "\n",
    "interest= input(\"What is the interest rate?\")\n",
    "type(interest)\n",
    "\n",
    "int_int= int(interest)\n",
    "\n",
    "years = input(\"How many years is the interest compounding?\")\n",
    "type(years)\n",
    "\n",
    "int_year = int(years)\n",
    "\n",
    "compound = input(\"How many times does the interest compound in a year?\")\n",
    "type (compound)\n",
    "\n",
    "int_com = int(compound)\n",
    "\n",
    "dec_int = int_int / 100\n",
    "\n",
    "amount = int_principal * (1 + (dec_int / int_com)) ** (int_com * int_year)\n",
    "\n",
    "int_amount = int(amount)\n",
    "\n",
    "message = \"Your new amount is: \" + str(int_amount) + \" dollars\"\n",
    "print(message)\n",
    "\n"
   ]
  },
  {
   "cell_type": "code",
   "execution_count": null,
   "metadata": {},
   "outputs": [],
   "source": []
  }
 ],
 "metadata": {
  "kernelspec": {
   "display_name": "Python 3",
   "language": "python",
   "name": "python3"
  },
  "language_info": {
   "codemirror_mode": {
    "name": "ipython",
    "version": 3
   },
   "file_extension": ".py",
   "mimetype": "text/x-python",
   "name": "python",
   "nbconvert_exporter": "python",
   "pygments_lexer": "ipython3",
   "version": "3.7.0"
  }
 },
 "nbformat": 4,
 "nbformat_minor": 2
}
